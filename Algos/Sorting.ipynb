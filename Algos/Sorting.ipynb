{
 "cells": [
  {
   "cell_type": "markdown",
   "source": [
    "# Algorytmy Sortujące\n",
    "\n",
    "## Bubble Sort\n",
    "Najprostszy z algorytmów sorujących, operuje zamieniając dwa znajdujące się obok siebie elementy, jeżeli są w złej koejności. W skrajnych przypadkach ma bardzo wysoką złożoność obliczeniową. Potrzebuje dodatkowej iteracji, żeby zweryfikować poprawność posortowania."
   ],
   "metadata": {
    "collapsed": false
   }
  },
  {
   "cell_type": "code",
   "execution_count": null,
   "outputs": [],
   "source": [
    "def bubble_sort(arr: list):\n",
    "    is_sorted = False\n",
    "    while not is_sorted:\n",
    "        is_sorted = True # zakładamy, że tablica jest posortowana, algorytm skończy działanie jeśli nie znajdzie później nieposortowanych elementów\n",
    "        for i in range(len(arr) - 1): # iteruje przez wszystkie (poza ostatnim elementy)\n",
    "            if arr[i] > arr[i + 1]: # Porównuje elementy znajdujące się obok siebie\n",
    "                is_sorted = False # jeżeli elementy są w złej kolejności, to przestawia flagę na False\n",
    "                tmp = arr[i]\n",
    "                arr[i] = arr[i + 1]\n",
    "                arr[i + 1] = tmp\n",
    "    return arr"
   ],
   "metadata": {
    "collapsed": false
   }
  },
  {
   "cell_type": "markdown",
   "source": [
    "## Insertion Sort\n",
    "Insertion sort dzieli tablicę na dwie części - posortowaną i nieposortowaną.\n",
    "Iterując się przez tablicę porównuje pierwszy element nieposortowanej części z kolejnymi elementami posortowanej części (od największego do najmniejszego) i wstawia go w odpowiednie miejsce."
   ],
   "metadata": {
    "collapsed": false
   }
  },
  {
   "cell_type": "code",
   "execution_count": null,
   "outputs": [],
   "source": [
    "def insertion_sort(arr: list):\n",
    "    for i in range(1, len(arr) - 1):\n",
    "        key = arr[i] # przechowuje wartość aktualnie porównywanego elementu (pierwszy element nieposortowanej części)\n",
    "        j = i - 1\n",
    "\n",
    "        while j >= 0 and key < arr[j]: # Iteruje się przez posortowaną część tablicy, dopóki nie znajdzie elementu mniejszego od aktualnie porównywanego\n",
    "            arr[j + 1] = arr[j] # Za każdym razem, gdy aktualnie porównywany element jest mniejszy od elementu z posortowanej części, przesuwa element z posortowanej części o jedno miejsce w prawo\n",
    "            j -= 1\n",
    "        arr[j + 1] = key\n",
    "    return arr"
   ],
   "metadata": {
    "collapsed": false
   }
  },
  {
   "cell_type": "markdown",
   "source": [
    "## Selection Sort\n",
    "Selection sort w każdej iteracji znajduje najmniejszy element tablicy, który później zamienia miejscami z pierwszym elementem w nieposortowanej części tablicy."
   ],
   "metadata": {
    "collapsed": false
   }
  },
  {
   "cell_type": "code",
   "execution_count": null,
   "outputs": [],
   "source": [
    "def selection_sort(arr: list):\n",
    "    for i in range(len(arr)):\n",
    "\n",
    "        # Znajduje najmniejszy element w nieposortowanej liście\n",
    "        min_index = i\n",
    "        for j in range(i + 1, len(arr)):\n",
    "            if arr[j] < arr[min_index]:\n",
    "                min_index = j\n",
    "\n",
    "        # Dodaje najmniejszy element nieposortowanej części na koniec posortowanej części\n",
    "        tmp = arr[i]\n",
    "        arr[i] = arr[min_index]\n",
    "        arr[min_index] = tmp\n",
    "    return arr\n"
   ],
   "metadata": {
    "collapsed": false
   }
  },
  {
   "cell_type": "markdown",
   "source": [
    "## Merge Sort\n",
    "Jest algorytmem rekurencyjnym, który dzieli tablicę na dwie części (tak wiele razy jak to możliwe, docelowo tworząc jedno i dwuelementowe listy), sortuje każdą z nich i łączy w jedną posortowaną tablicę."
   ],
   "metadata": {
    "collapsed": false
   }
  },
  {
   "cell_type": "code",
   "execution_count": null,
   "outputs": [],
   "source": [
    "def merge_sort(arr: list):\n",
    "    if len(arr) > 1:\n",
    "        # Oblicza index środka tablicy i dzieli ją na dwie części\n",
    "        mid = len(arr)//2\n",
    "        split_arr = [arr[:mid], arr[mid:]]\n",
    "\n",
    "        # Jeśli listy nie są jednoelementowe, wykonuje merge_sort na każdej z nich\n",
    "        merge_sort(split_arr[0])\n",
    "        merge_sort(split_arr[1])\n",
    "\n",
    "        # Sortuje i łączy obydwie tablice\n",
    "        i = j = k = 0\n",
    "        while i < len(split_arr[0]) and j < len(split_arr[1]):\n",
    "            if split_arr[0][i] <= split_arr[1][j]:\n",
    "                arr[k] = split_arr[0][i]\n",
    "                i += 1\n",
    "            else:\n",
    "                arr[k] = split_arr[1][j]\n",
    "                j += 1\n",
    "            k += 1\n",
    "\n",
    "        # Sprawdza czy na listach nie zostały nieposortowane elementy\n",
    "        while i < len(split_arr[0]):\n",
    "            arr[k] = split_arr[0][i]\n",
    "            i += 1\n",
    "            k += 1\n",
    "\n",
    "        while j < len(split_arr[1]):\n",
    "            arr[k] = split_arr[1][j]\n",
    "            j += 1\n",
    "            k += 1\n",
    "\n",
    "    return arr"
   ],
   "metadata": {
    "collapsed": false
   }
  },
  {
   "cell_type": "markdown",
   "source": [
    "## Quick Sort\n",
    "Najbardziej zaawansowany z maturalnych algorytmów sortujących. Algorytm rekurencyjny, wybiera element w liście, tzw. **pivot**, który dzieli listę na dwie części - elementy mniejsze od pivota i elementy większe od pivota, powtarza to dopóki nie podzieli maksymalnie listy. Następnie, przechodząc spowrotem \"w górę\" po iteracjach łączy posortowane już elementy.\n",
    "\n",
    "Pivot może być dowolnym elementem listy, poniższa implementacja **zawsze** wybiera **ostatni** element listy."
   ],
   "metadata": {
    "collapsed": false
   }
  },
  {
   "cell_type": "code",
   "execution_count": null,
   "outputs": [],
   "source": [
    "def quick_sort(arr: list, *args):\n",
    "    if len(arr) > 1:\n",
    "        pivot = arr[-1] # Wybiera ostatni element listy jako pivot\n",
    "        i = 0 - 1\n",
    "\n",
    "        # Iteruje przez listę i ustawia ją tak, aby pivot znalazł się między elementami mniejszymi od niego, a większymi\n",
    "        for j in range(len(arr) - 1):\n",
    "            if arr[j] <= pivot:\n",
    "                i += 1\n",
    "                (arr[i], arr[j]) = (arr[j], arr[i])\n",
    "\n",
    "        # i + 1 jest indexem od którego zaczyna się lista elementów większych od pivota, zamienia pivot z pierwszym elementem większym od niego, a następnie wywołuje quick_sort na obydwu częściach listy\n",
    "        (arr[i + 1], arr[-1]) = (arr[-1], arr[i + 1])\n",
    "        arr[:i + 1] = quick_sort(arr[:i + 1])\n",
    "        arr[i + 1:] = quick_sort(arr[i + 1:])\n",
    "    return arr"
   ],
   "metadata": {
    "collapsed": false
   }
  },
  {
   "cell_type": "markdown",
   "source": [
    "\n",
    "## Testy jednostkowe\n",
    "Na koniec warto przetestować działanie przygotowanych algorytmów. Wykorzystam do tego bibliotekę **unittest** i losowo wygenerowane listy.\n",
    "\n",
    "Na początek definiujemy klasę, która, dziedzicząc po klasie `unittest.TestCase` będzie odpowiedzialna za wywoływanie testów.\n",
    "Metoda `setUp` jest wywoływana przed każdym testem, w niej generujemy listę testową o długości `size`, jednocześnie zapewniając unikatowość każdego z jej elementów z użyciem [setu](https://www.w3schools.com/python/python_sets.asp) zamiast listy i jej posortowaną wersję, która posłuży nam do porównywania wyników algorytmów."
   ],
   "metadata": {
    "collapsed": false
   }
  },
  {
   "cell_type": "code",
   "execution_count": null,
   "outputs": [],
   "source": [
    "import unittest\n",
    "import random\n",
    "\n",
    "\n",
    "class MyTestCase(unittest.TestCase):\n",
    "    def setUp(self):\n",
    "        self._regenerate_test_data(size=1000)\n",
    "\n",
    "    def _regenerate_test_data(self, size=10000):\n",
    "        self.test_sequence = list({random.randint(0, size) for i in range(size)})\n",
    "        self.test_response = sorted(self. test_sequence.copy())"
   ],
   "metadata": {
    "collapsed": false
   }
  },
  {
   "cell_type": "markdown",
   "source": [
    "Następnie stworzymy po jednej funkcji testującej każdy z algorytmów. Każda z nich będzie wywoływać odpowiedni algorytm na testowej liście, a następnie porównywać wynik z posortowaną listą testową.\n",
    "Każda funkcja zaczynająca się od `test` zostanie automatycznie wywołana przez klasę"
   ],
   "metadata": {
    "collapsed": false
   }
  },
  {
   "cell_type": "code",
   "execution_count": null,
   "metadata": {
    "collapsed": true
   },
   "outputs": [],
   "source": [
    "    def test_bubble_sort(self):\n",
    "        self.assertEqual(bubble_sort(self.test_sequence.copy()), self.test_response)\n",
    "\n",
    "    def test_insertion_sort(self):\n",
    "        self.assertEqual(insertion_sort(self.test_sequence.copy()), self.test_response)\n",
    "\n",
    "    def test_selection_sort(self):\n",
    "        self.assertEqual(selection_sort(self.test_sequence.copy()), self.test_response)\n",
    "\n",
    "    def test_merge_sort(self):\n",
    "        self.assertEqual(merge_sort(self.test_sequence.copy()), self.test_response)\n",
    "\n",
    "    def test_quick_sort(self):\n",
    "        self.assertEqual(quick_sort(self.test_sequence.copy()), self.test_response)"
   ]
  },
  {
   "cell_type": "markdown",
   "source": [
    "Na koniec wywołujemy wszystkie testy jedną funkcją `unittest.main()`"
   ],
   "metadata": {
    "collapsed": false
   }
  },
  {
   "cell_type": "code",
   "execution_count": null,
   "outputs": [],
   "source": [
    "unittest.main()"
   ],
   "metadata": {
    "collapsed": false
   }
  }
 ],
 "metadata": {
  "kernelspec": {
   "display_name": "Python 3",
   "language": "python",
   "name": "python3"
  },
  "language_info": {
   "codemirror_mode": {
    "name": "ipython",
    "version": 2
   },
   "file_extension": ".py",
   "mimetype": "text/x-python",
   "name": "python",
   "nbconvert_exporter": "python",
   "pygments_lexer": "ipython2",
   "version": "2.7.6"
  }
 },
 "nbformat": 4,
 "nbformat_minor": 0
}
