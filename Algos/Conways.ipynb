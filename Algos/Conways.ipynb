{
 "cells": [
  {
   "cell_type": "markdown",
   "source": [
    "# Gra w Życie\n",
    "Jeden z pierwszych i najprostszych automatów komórkowych zaproektowany przez Johna Conway'a.\n",
    "\n",
    "* Gra toczy się na nieskończonej lub skończonej płaszczyźnie.\n",
    "* Sąsiadami komórki nazywamy komórki graniczące rogami, lub bokami.\n",
    "* Każda z komórek może mieć stan żywy lub martwy, zmieniający się co jednostkę czasu, stan wszystkich komórek w danej jednostce czasu nazywamy **pokoleniem**.\n",
    "* Reguły zmianu komórki są dwie:\n",
    "    * Martwa komórka, która ma **dokładnie 3 sąsiadów** będzie żywa w następnym pokoleniu:\n",
    "    * Żywa komórka, przeżywa do następnego pokolenia tylko jeśli ma **2 lub 3 sąsiadów**\n",
    "\n",
    "W Grze w Życie odkryto również wiele struktur, które podzielono [ze względu na ich zachowanie](https://pl.wikipedia.org/wiki/Gra_w_%C5%BCycie#Szczeg%C3%B3%C5%82owy_podzia%C5%82_struktur_ze_wzgl%C4%99du_na_zachowanie).\n",
    "Bardziej zaawansowany model można obejrzeć na stronie [ConwayLife](https://conwaylife.com).\n",
    "\n",
    "## Implementacja na skończonej płaszczyźnie, determinowanej przez plik wejściowy\n",
    "Niech `x` będzie martwą, a `o`  żywą komórką"
   ],
   "metadata": {
    "collapsed": false
   }
  },
  {
   "cell_type": "code",
   "execution_count": null,
   "outputs": [],
   "source": [
    "from copy import deepcopy"
   ],
   "metadata": {
    "collapsed": false
   }
  },
  {
   "cell_type": "markdown",
   "source": [
    "Ten import pozwoli w przyszłości na wykonywanie duplikatów list, które w przeciwnym wypadku byłyby kopiowane przez odwołania"
   ],
   "metadata": {
    "collapsed": false
   }
  },
  {
   "cell_type": "code",
   "execution_count": null,
   "outputs": [],
   "source": [
    "start_set = \"xxxxxxxxxx\\n\" \\\n",
    "            \"xxxxxoxoxo\\n\" \\\n",
    "            \"xxooxxoxoo\\n\" \\\n",
    "            \"xoooxxoxxo\\n\" \\\n",
    "            \"xxxxxxxxxx\""
   ],
   "metadata": {
    "collapsed": false,
    "pycharm": {
     "is_executing": true
    }
   }
  },
  {
   "cell_type": "code",
   "execution_count": null,
   "outputs": [],
   "source": [
    "data = [list(line) for line in start_set.split('\\n')]\n",
    "print(data)"
   ],
   "metadata": {
    "collapsed": false
   }
  }
 ],
 "metadata": {
  "kernelspec": {
   "display_name": "Python 3",
   "language": "python",
   "name": "python3"
  },
  "language_info": {
   "codemirror_mode": {
    "name": "ipython",
    "version": 2
   },
   "file_extension": ".py",
   "mimetype": "text/x-python",
   "name": "python",
   "nbconvert_exporter": "python",
   "pygments_lexer": "ipython2",
   "version": "2.7.6"
  }
 },
 "nbformat": 4,
 "nbformat_minor": 0
}
