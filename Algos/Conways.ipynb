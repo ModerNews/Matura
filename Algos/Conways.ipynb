{
 "cells": [
  {
   "cell_type": "markdown",
   "source": [
    "# Gra w Życie\n",
    "Jeden z pierwszych i najprostszych automatów komórkowych zaproektowany przez Johna Conway'a.\n",
    "\n",
    "* Gra toczy się na nieskończonej lub skończonej płaszczyźnie.\n",
    "* Sąsiadami komórki nazywamy komórki graniczące rogami, lub bokami.\n",
    "* Każda z komórek może mieć stan żywy lub martwy, zmieniający się co jednostkę czasu, stan wszystkich komórek w danej jednostce czasu nazywamy **pokoleniem**.\n",
    "* Reguły zmianu komórki są dwie:\n",
    "    * Martwa komórka, która ma **dokładnie 3 sąsiadów** będzie żywa w następnym pokoleniu:\n",
    "    * Żywa komórka, przeżywa do następnego pokolenia tylko jeśli ma **2 lub 3 sąsiadów**\n",
    "\n",
    "W Grze w Życie odkryto również wiele struktur, które podzielono [ze względu na ich zachowanie](https://pl.wikipedia.org/wiki/Gra_w_%C5%BCycie#Szczeg%C3%B3%C5%82owy_podzia%C5%82_struktur_ze_wzgl%C4%99du_na_zachowanie).\n",
    "Bardziej zaawansowany model można obejrzeć na stronie [ConwayLife](https://conwaylife.com).\n",
    "\n",
    "## Implementacja na skończonej płaszczyźnie, determinowanej przez plik wejściowy\n",
    "Niech `x` będzie martwą, a `o`  żywą komórką"
   ],
   "metadata": {
    "collapsed": false
   }
  },
  {
   "cell_type": "code",
   "execution_count": null,
   "outputs": [],
   "source": [
    "from copy import deepcopy"
   ],
   "metadata": {
    "collapsed": false,
    "ExecuteTime": {
     "start_time": "2023-05-18T15:50:51.049906Z",
     "end_time": "2023-05-18T15:50:51.080292Z"
    }
   }
  },
  {
   "cell_type": "markdown",
   "source": [
    "Ten import pozwoli w przyszłości na wykonywanie duplikatów list, które w przeciwnym wypadku byłyby kopiowane przez odwołania\n",
    "Więcej informacji w [dokumentacji](https://docs.python.org/3/library/copy.html).\n",
    "W normalnym wypadku wystarcza wbudowana funkcja `list.copy()`, jednak tworzy ona tylko płytkie kopie, co oznacza że wewnętrzne listy dalej odwoływałyby się do tych samych obiektów między sobą."
   ],
   "metadata": {
    "collapsed": false
   }
  },
  {
   "cell_type": "code",
   "execution_count": null,
   "outputs": [],
   "source": [
    "start_set = \"xxxxxxxxxx\\n\" \\\n",
    "            \"xxxxxoxoxo\\n\" \\\n",
    "            \"xxooxxoxoo\\n\" \\\n",
    "            \"xoooxxoxxo\\n\" \\\n",
    "            \"xxxxxxxxxx\""
   ],
   "metadata": {
    "collapsed": false,
    "ExecuteTime": {
     "start_time": "2023-05-18T15:50:51.079290Z",
     "end_time": "2023-05-18T15:50:51.089809Z"
    }
   }
  },
  {
   "cell_type": "code",
   "execution_count": null,
   "outputs": [],
   "source": [
    "# Kolejne pokolenia przechowywane są w liście, aby zachować historię\n",
    "generations = [[list(line) for line in start_set.split('\\n')]]\n",
    "\n",
    "for i in range(100): # 100 pokoleń\n",
    "    # Tworzy kopię ostatniego pokolenia, która posłuży za bazę dla następnego\n",
    "    new_gen, data = deepcopy(generations[-1]), generations[-1]\n",
    "    for x in range(len(data[0])):\n",
    "        for y in range(len(data)):\n",
    "            # Zbiera wartości wszystkich sąsiednich komórek\n",
    "            # Operator modulo % pozwala na \"zawijanie\" planszy na krawędziach\n",
    "            neighbors = [data[y-1][x-1], data[y-1][x], data[y-1][(x+1) % len(data[0])],\n",
    "                         data[y][x-1], data[y][(x+1) % len(data[0])],\n",
    "                         data[(y+1) % len(data)][x-1], data[(y+1) % len(data)][x], data[(y+1) % len(data)][(x+1) % len(data[0])]]\n",
    "            # Główna logika obsługująca zmianę stanu komórki (zgodnie z opisanymi wyżej regułami)\n",
    "            if neighbors.count('o') < 2:\n",
    "                new_gen[y][x] = 'x'\n",
    "            elif data[y][x] == 'o' and (2 <= neighbors.count('o') <= 3):\n",
    "                new_gen[y][x] = 'o'\n",
    "            elif data[y][x] == 'x' and neighbors.count('o') == 3:\n",
    "                new_gen[y][x] = 'o'\n",
    "            else:\n",
    "                new_gen[y][x] = 'x'\n",
    "    # Uaktualnienie listy pokoleń\n",
    "    generations.append(deepcopy(new_gen))\n",
    "\n",
    "# Wyświetlenie wygenerowanych pokoleń\n",
    "i = 1\n",
    "for gen in generations:\n",
    "    print(f\"Generation: {i}\")\n",
    "    print('\\n'.join([' '.join(line) for line in gen]))\n",
    "    i += 1"
   ],
   "metadata": {
    "collapsed": false,
    "ExecuteTime": {
     "start_time": "2023-05-18T15:50:24.018168Z",
     "end_time": "2023-05-18T15:50:51.091809Z"
    }
   }
  },
  {
   "cell_type": "markdown",
   "source": [],
   "metadata": {
    "collapsed": false
   }
  }
 ],
 "metadata": {
  "kernelspec": {
   "display_name": "Python 3",
   "language": "python",
   "name": "python3"
  },
  "language_info": {
   "codemirror_mode": {
    "name": "ipython",
    "version": 2
   },
   "file_extension": ".py",
   "mimetype": "text/x-python",
   "name": "python",
   "nbconvert_exporter": "python",
   "pygments_lexer": "ipython2",
   "version": "2.7.6"
  }
 },
 "nbformat": 4,
 "nbformat_minor": 0
}
