{
 "cells": [
  {
   "cell_type": "markdown",
   "source": [
    "# Liczby Pierwsze\n",
    "\n",
    "## Podstawowy Algorytm sprawdzania pierwszości liczby\n",
    "Na początek zaimplementujemy prymitywny alorytm sprawdzający pierwszość liczby. Zgodnie z teorią matematyczną sprawdzamy wszystkie liczby mniejsze od pierwiastka z n."
   ],
   "metadata": {
    "collapsed": false
   }
  },
  {
   "cell_type": "code",
   "execution_count": null,
   "metadata": {
    "collapsed": true,
    "pycharm": {
     "is_executing": true
    }
   },
   "outputs": [],
   "source": [
    "import math\n",
    "\n",
    "def check_prime(n: int):\n",
    "    if n in [0,1]:\n",
    "        return False\n",
    "    i = 2\n",
    "    while i**i < n:\n",
    "        if n % i == 0:\n",
    "            return False\n",
    "        i += 1\n",
    "    return True"
   ]
  },
  {
   "cell_type": "markdown",
   "source": [
    "Jest to najbardziej podstawowa forma algorytmu i może zostać dalej zoptymalizowana, aby osiągnąć mniejszą złożoność czasową."
   ],
   "metadata": {
    "collapsed": false
   }
  },
  {
   "cell_type": "markdown",
   "source": [
    "## Sito Eratostenesa\n",
    "Sito Erastotenesa jest prostym algorytmem wyszukującym liczby pierwsze do granicy `n`. Algorytm oblicza kolejne liczby niepierwsze wykreślając iloczyny liczb pierwszych, począwszy od 2."
   ],
   "metadata": {
    "collapsed": false
   }
  },
  {
   "cell_type": "code",
   "execution_count": null,
   "outputs": [],
   "source": [
    "def eratosthenes_sieve(n: int):\n",
    "    primes = [True if i not in [0,1] else False for i in range(n)] # Wypełnia tablicę wartościami True dla każdej z liczb od 0 do n\n",
    "    if n in [0, 1]:\n",
    "        return primes\n",
    "    for i in range(2, int(math.sqrt(n)) + 1):\n",
    "        if primes[i]:\n",
    "            tmp = i ** 2\n",
    "            while tmp < n:\n",
    "                primes[tmp] = False\n",
    "                tmp += i\n",
    "    return primes\n"
   ],
   "metadata": {
    "collapsed": false
   }
  },
  {
   "cell_type": "markdown",
   "source": [
    "## Test jednostkowy sita z wykorzystaniem algorytmu sprawdzającego\n",
    "Wykonamy test przygotowanego algorytmu sita z wykorzystaniem modułu `unittest` i napisanego wcześniej algorytmu sprawdzającego"
   ],
   "metadata": {
    "collapsed": false
   }
  },
  {
   "cell_type": "code",
   "execution_count": null,
   "outputs": [],
   "source": [
    "import unittest\n",
    "\n",
    "class SieveTest(unittest.TestCase):\n",
    "    def setUp(self):\n",
    "        self.cases = eratosthenes_sieve(10000)\n",
    "\n",
    "    def test_sieve(self):\n",
    "        for i in range(len(self.cases)):\n",
    "            self.assertEqual(self.cases[i], check_prime(i))\n",
    "\n",
    "\n",
    "unittest.main()\n"
   ],
   "metadata": {
    "collapsed": false
   }
  }
 ],
 "metadata": {
  "kernelspec": {
   "display_name": "Python 3",
   "language": "python",
   "name": "python3"
  },
  "language_info": {
   "codemirror_mode": {
    "name": "ipython",
    "version": 2
   },
   "file_extension": ".py",
   "mimetype": "text/x-python",
   "name": "python",
   "nbconvert_exporter": "python",
   "pygments_lexer": "ipython2",
   "version": "2.7.6"
  }
 },
 "nbformat": 4,
 "nbformat_minor": 0
}
